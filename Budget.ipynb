{
 "cells": [
  {
   "cell_type": "markdown",
   "id": "1c8f4153-878e-42c3-aa43-3925bcad0ffa",
   "metadata": {},
   "source": [
    "### This is a personal budgeter for me\n"
   ]
  },
  {
   "cell_type": "code",
   "execution_count": null,
   "id": "8457438e-6cbe-44ea-bae2-6fa18357b686",
   "metadata": {},
   "outputs": [],
   "source": [
    "class Expense(ExpenseID, Expenser, Card Used,"
   ]
  }
 ],
 "metadata": {
  "kernelspec": {
   "display_name": "Python 3 (ipykernel)",
   "language": "python",
   "name": "python3"
  },
  "language_info": {
   "codemirror_mode": {
    "name": "ipython",
    "version": 3
   },
   "file_extension": ".py",
   "mimetype": "text/x-python",
   "name": "python",
   "nbconvert_exporter": "python",
   "pygments_lexer": "ipython3",
   "version": "3.10.6"
  }
 },
 "nbformat": 4,
 "nbformat_minor": 5
}
